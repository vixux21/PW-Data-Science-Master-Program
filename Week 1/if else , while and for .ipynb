{
 "cells": [
  {
   "cell_type": "code",
   "execution_count": 3,
   "id": "1586b442-65fb-4e72-bd05-224e17a5c0d9",
   "metadata": {},
   "outputs": [],
   "source": [
    "a = 10 \n",
    "if a > 10 :\n",
    "    print(\"yes a is greater than 10 \")"
   ]
  },
  {
   "cell_type": "code",
   "execution_count": 4,
   "id": "87617a92-0f49-4b09-a69d-5bbd72b2316e",
   "metadata": {},
   "outputs": [
    {
     "data": {
      "text/plain": [
       "False"
      ]
     },
     "execution_count": 4,
     "metadata": {},
     "output_type": "execute_result"
    }
   ],
   "source": [
    "a > 10"
   ]
  },
  {
   "cell_type": "code",
   "execution_count": 5,
   "id": "48733b1b-4334-42ab-b76f-18ea21e54f04",
   "metadata": {},
   "outputs": [
    {
     "name": "stdout",
     "output_type": "stream",
     "text": [
      "yes a is greater than 10 \n"
     ]
    }
   ],
   "source": [
    "a = 10 \n",
    "if a >= 10 :\n",
    "    print(\"yes a is greater than 10 \")"
   ]
  },
  {
   "cell_type": "code",
   "execution_count": 6,
   "id": "2f658b81-f7d3-48f0-a6d7-d294663f0588",
   "metadata": {},
   "outputs": [
    {
     "data": {
      "text/plain": [
       "True"
      ]
     },
     "execution_count": 6,
     "metadata": {},
     "output_type": "execute_result"
    }
   ],
   "source": [
    "a >= 10 "
   ]
  },
  {
   "cell_type": "code",
   "execution_count": 14,
   "id": "8bfb56a4-b32a-43c3-852b-27a32363f4b1",
   "metadata": {},
   "outputs": [
    {
     "name": "stdout",
     "output_type": "stream",
     "text": [
      "this is my defalut\n"
     ]
    }
   ],
   "source": [
    "b = 20 \n",
    "if b > 30 :\n",
    "    print(\"yes b is greater than 30\")\n",
    "elif b  > 40 : \n",
    "    print(\"yes b is leser than 40 \")\n",
    "elif b > 100 : \n",
    "    print(\"yes b is greater than 100\")\n",
    "else :\n",
    "    print(\"this is my defalut\")\n"
   ]
  },
  {
   "cell_type": "code",
   "execution_count": 8,
   "id": "32a8bc08-5de5-4514-a36a-2d2dac052c47",
   "metadata": {},
   "outputs": [
    {
     "data": {
      "text/plain": [
       "False"
      ]
     },
     "execution_count": 8,
     "metadata": {},
     "output_type": "execute_result"
    }
   ],
   "source": [
    "b > 30"
   ]
  },
  {
   "cell_type": "code",
   "execution_count": 10,
   "id": "e9b9a72c-b9e1-4fd1-ae43-0f98921d9e47",
   "metadata": {},
   "outputs": [
    {
     "data": {
      "text/plain": [
       "True"
      ]
     },
     "execution_count": 10,
     "metadata": {},
     "output_type": "execute_result"
    }
   ],
   "source": [
    "b < 40"
   ]
  },
  {
   "cell_type": "code",
   "execution_count": 12,
   "id": "73891866-615d-440f-92a1-db121e3c3eee",
   "metadata": {},
   "outputs": [
    {
     "data": {
      "text/plain": [
       "False"
      ]
     },
     "execution_count": 12,
     "metadata": {},
     "output_type": "execute_result"
    }
   ],
   "source": [
    "b  > 40"
   ]
  },
  {
   "cell_type": "code",
   "execution_count": 21,
   "id": "d7b7dda1-031b-49a9-8d1f-bd949efc935b",
   "metadata": {},
   "outputs": [
    {
     "name": "stdin",
     "output_type": "stream",
     "text": [
      " 2\n"
     ]
    },
    {
     "name": "stdout",
     "output_type": "stream",
     "text": [
      "this is my defalut\n"
     ]
    }
   ],
   "source": [
    "b = int(input())\n",
    "if b > 30 :\n",
    "    print(\"yes b is greater than 30\")\n",
    "elif b  > 40 : \n",
    "    print(\"yes b is leser than 40 \")\n",
    "elif b > 100 : \n",
    "    print(\"yes b is greater than 100\")\n",
    "else :\n",
    "    print(\"this is my defalut\")"
   ]
  },
  {
   "cell_type": "code",
   "execution_count": 16,
   "id": "250f88d7-d21a-4539-9834-4ab80a565e86",
   "metadata": {},
   "outputs": [
    {
     "data": {
      "text/plain": [
       "34"
      ]
     },
     "execution_count": 16,
     "metadata": {},
     "output_type": "execute_result"
    }
   ],
   "source": [
    "int('34')"
   ]
  },
  {
   "cell_type": "code",
   "execution_count": 18,
   "id": "b6d0f839-e7dd-492b-96a7-4dd3b80adb2d",
   "metadata": {},
   "outputs": [
    {
     "data": {
      "text/plain": [
       "45"
      ]
     },
     "execution_count": 18,
     "metadata": {},
     "output_type": "execute_result"
    }
   ],
   "source": [
    "b"
   ]
  },
  {
   "cell_type": "code",
   "execution_count": 19,
   "id": "f230af02-0d85-4f6c-b3bc-76a7295b8415",
   "metadata": {},
   "outputs": [
    {
     "data": {
      "text/plain": [
       "int"
      ]
     },
     "execution_count": 19,
     "metadata": {},
     "output_type": "execute_result"
    }
   ],
   "source": [
    "type(b)"
   ]
  },
  {
   "cell_type": "code",
   "execution_count": 22,
   "id": "b9f4a504-7e57-4a54-a39e-4aeed4631dd1",
   "metadata": {},
   "outputs": [
    {
     "name": "stdout",
     "output_type": "stream",
     "text": [
      "1\n",
      "2\n",
      "3\n"
     ]
    }
   ],
   "source": [
    "n = 4\n",
    "i = 1\n",
    "while i < n :\n",
    "    print(i)\n",
    "    i = i+1\n"
   ]
  },
  {
   "cell_type": "code",
   "execution_count": 23,
   "id": "c5497c60-bea3-4924-8fdf-720c90014da6",
   "metadata": {},
   "outputs": [
    {
     "name": "stdout",
     "output_type": "stream",
     "text": [
      "1\n",
      "2\n",
      "3\n",
      "this is my else\n"
     ]
    }
   ],
   "source": [
    "n = 4\n",
    "i = 1\n",
    "while i < n :\n",
    "    print(i)\n",
    "    i = i+1\n",
    "else :\n",
    "    print(\"this is my else\")"
   ]
  },
  {
   "cell_type": "code",
   "execution_count": 24,
   "id": "5fbdb774-9ac0-4906-a404-2a1672fe76cc",
   "metadata": {},
   "outputs": [
    {
     "name": "stdout",
     "output_type": "stream",
     "text": [
      "1\n",
      "2\n"
     ]
    }
   ],
   "source": [
    "n = 4\n",
    "i = 1\n",
    "while i < n :\n",
    "    print(i)\n",
    "    i = i+1\n",
    "    if i == 3 :\n",
    "        break \n",
    "else :\n",
    "    print(\"this is my else\")"
   ]
  },
  {
   "cell_type": "code",
   "execution_count": 25,
   "id": "6f613a37-6b0e-44e0-8e57-34fd7ac901e8",
   "metadata": {},
   "outputs": [
    {
     "name": "stdout",
     "output_type": "stream",
     "text": [
      "s\n",
      "u\n",
      "d\n",
      "h\n"
     ]
    }
   ],
   "source": [
    "s = \"sudh\"\n",
    "for i in s :\n",
    "    print(i)\n"
   ]
  },
  {
   "cell_type": "code",
   "execution_count": 26,
   "id": "2f5ea9bc-0a79-4b44-b152-bf8e5c3b7e40",
   "metadata": {},
   "outputs": [],
   "source": [
    "l = [2,3,4,5,6,\"sudh\" , \"pwskills\" , 23.45, True]"
   ]
  },
  {
   "cell_type": "code",
   "execution_count": 27,
   "id": "d6f60f2e-7e35-47f6-bf70-658a86d0f86e",
   "metadata": {},
   "outputs": [
    {
     "name": "stdout",
     "output_type": "stream",
     "text": [
      "<class 'int'>\n",
      "<class 'int'>\n",
      "<class 'int'>\n",
      "<class 'int'>\n",
      "<class 'int'>\n",
      "<class 'str'>\n",
      "<class 'str'>\n",
      "<class 'float'>\n",
      "<class 'bool'>\n"
     ]
    }
   ],
   "source": [
    "for i in l : \n",
    "    print(type(i))"
   ]
  },
  {
   "cell_type": "code",
   "execution_count": 32,
   "id": "7acdc0eb-5068-4019-a03b-f4afd50b2e00",
   "metadata": {},
   "outputs": [
    {
     "name": "stdout",
     "output_type": "stream",
     "text": [
      "<class 'int'>\n",
      "<class 'int'>\n",
      "<class 'int'>\n",
      "<class 'int'>\n",
      "<class 'int'>\n",
      "<class 'str'>\n",
      "<class 'str'>\n",
      "<class 'float'>\n",
      "<class 'bool'>\n",
      "this will be executed once for loop will comoplete itself succefully\n"
     ]
    }
   ],
   "source": [
    "for i in l : \n",
    "    print(type(i))\n",
    "    if i == 6 :\n",
    "        continue\n",
    "else :\n",
    "    print(\"this will be executed once for loop will comoplete itself succefully\")"
   ]
  },
  {
   "cell_type": "code",
   "execution_count": 31,
   "id": "4fbd6272-a4e8-48b9-87a6-864883d8e86d",
   "metadata": {},
   "outputs": [
    {
     "data": {
      "text/plain": [
       "[2, 3, 4, 5, 6, 'sudh', 'pwskills', 23.45, True]"
      ]
     },
     "execution_count": 31,
     "metadata": {},
     "output_type": "execute_result"
    }
   ],
   "source": [
    "l"
   ]
  },
  {
   "cell_type": "code",
   "execution_count": 33,
   "id": "268ba902-703d-428c-b93e-0ec424080fdd",
   "metadata": {},
   "outputs": [
    {
     "name": "stdout",
     "output_type": "stream",
     "text": [
      "<class 'int'>\n",
      "2\n",
      "<class 'int'>\n",
      "3\n",
      "<class 'int'>\n",
      "4\n",
      "<class 'int'>\n",
      "5\n",
      "<class 'int'>\n",
      "<class 'str'>\n",
      "sudh\n",
      "<class 'str'>\n",
      "pwskills\n",
      "<class 'float'>\n",
      "23.45\n",
      "<class 'bool'>\n",
      "True\n",
      "this will be executed once for loop will comoplete itself succefully\n"
     ]
    }
   ],
   "source": [
    "for i in l : \n",
    "    print(type(i))\n",
    "    if i == 6 :\n",
    "        continue\n",
    "    print(i)\n",
    "else :\n",
    "    print(\"this will be executed once for loop will comoplete itself succefully\")"
   ]
  },
  {
   "cell_type": "code",
   "execution_count": 34,
   "id": "1f3bf566-b071-4177-874b-c64e166d5fc7",
   "metadata": {},
   "outputs": [
    {
     "data": {
      "text/plain": [
       "range(0, 10)"
      ]
     },
     "execution_count": 34,
     "metadata": {},
     "output_type": "execute_result"
    }
   ],
   "source": [
    "range(10)"
   ]
  },
  {
   "cell_type": "code",
   "execution_count": 35,
   "id": "7ba20398-6bfd-43b1-ac9b-b9bde66cf13f",
   "metadata": {},
   "outputs": [
    {
     "data": {
      "text/plain": [
       "[0, 1, 2, 3, 4, 5, 6, 7, 8, 9]"
      ]
     },
     "execution_count": 35,
     "metadata": {},
     "output_type": "execute_result"
    }
   ],
   "source": [
    "list(range(10))"
   ]
  },
  {
   "cell_type": "code",
   "execution_count": null,
   "id": "8abca3b2-17a1-4fd5-a30e-beab45037924",
   "metadata": {},
   "outputs": [],
   "source": []
  }
 ],
 "metadata": {
  "kernelspec": {
   "display_name": "Python 3 (ipykernel)",
   "language": "python",
   "name": "python3"
  },
  "language_info": {
   "codemirror_mode": {
    "name": "ipython",
    "version": 3
   },
   "file_extension": ".py",
   "mimetype": "text/x-python",
   "name": "python",
   "nbconvert_exporter": "python",
   "pygments_lexer": "ipython3",
   "version": "3.10.8"
  }
 },
 "nbformat": 4,
 "nbformat_minor": 5
}
