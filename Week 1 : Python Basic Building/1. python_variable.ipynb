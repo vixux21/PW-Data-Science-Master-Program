{
  "cells": [
    {
      "cell_type": "code",
      "execution_count": null,
      "id": "c2cdcc33-2055-466b-a52d-8304293e7cd3",
      "metadata": {
        "id": "c2cdcc33-2055-466b-a52d-8304293e7cd3"
      },
      "outputs": [],
      "source": [
        "a = 1"
      ]
    },
    {
      "cell_type": "code",
      "execution_count": null,
      "id": "c2d7e8d2-ae85-41ce-bd3e-fc8a46986fa8",
      "metadata": {
        "id": "c2d7e8d2-ae85-41ce-bd3e-fc8a46986fa8",
        "outputId": "eb3fbbf3-f4d6-41c1-b03a-ab30016923d4"
      },
      "outputs": [
        {
          "data": {
            "text/plain": [
              "1"
            ]
          },
          "execution_count": 2,
          "metadata": {},
          "output_type": "execute_result"
        }
      ],
      "source": [
        "a"
      ]
    },
    {
      "cell_type": "code",
      "execution_count": null,
      "id": "6e6f826c-6e04-416b-be39-7ece9b9d0be5",
      "metadata": {
        "id": "6e6f826c-6e04-416b-be39-7ece9b9d0be5",
        "outputId": "1dd4482d-87e4-4223-c6c6-1c896dff26d7"
      },
      "outputs": [
        {
          "data": {
            "text/plain": [
              "int"
            ]
          },
          "execution_count": 3,
          "metadata": {},
          "output_type": "execute_result"
        }
      ],
      "source": [
        "type(a)"
      ]
    },
    {
      "cell_type": "code",
      "execution_count": null,
      "id": "db62a6bf-a0ad-4c9c-8934-0ba8cc094d31",
      "metadata": {
        "id": "db62a6bf-a0ad-4c9c-8934-0ba8cc094d31"
      },
      "outputs": [],
      "source": [
        "b = 'sudh'"
      ]
    },
    {
      "cell_type": "code",
      "execution_count": null,
      "id": "54f63948-1a80-4c95-96fa-4d106321d90f",
      "metadata": {
        "id": "54f63948-1a80-4c95-96fa-4d106321d90f",
        "outputId": "7a066367-2f4c-46b3-cc7a-6c64910cbde2"
      },
      "outputs": [
        {
          "data": {
            "text/plain": [
              "str"
            ]
          },
          "execution_count": 7,
          "metadata": {},
          "output_type": "execute_result"
        }
      ],
      "source": [
        "type(b)"
      ]
    },
    {
      "cell_type": "code",
      "execution_count": null,
      "id": "4d90b132-da6c-4ebc-ab66-baec0683addd",
      "metadata": {
        "id": "4d90b132-da6c-4ebc-ab66-baec0683addd"
      },
      "outputs": [],
      "source": [
        "c = 45.67868"
      ]
    },
    {
      "cell_type": "code",
      "execution_count": null,
      "id": "5841fd6e-4d61-4340-9a02-30e4053a8e7e",
      "metadata": {
        "id": "5841fd6e-4d61-4340-9a02-30e4053a8e7e",
        "outputId": "8bf1f46a-e40b-446b-a8ae-5211d0a02606"
      },
      "outputs": [
        {
          "data": {
            "text/plain": [
              "float"
            ]
          },
          "execution_count": 9,
          "metadata": {},
          "output_type": "execute_result"
        }
      ],
      "source": [
        "type(c)"
      ]
    },
    {
      "cell_type": "code",
      "execution_count": null,
      "id": "3332cf94-be07-4d43-9e9b-c6e45f55610d",
      "metadata": {
        "id": "3332cf94-be07-4d43-9e9b-c6e45f55610d"
      },
      "outputs": [],
      "source": [
        "sudh = 3535"
      ]
    },
    {
      "cell_type": "code",
      "execution_count": null,
      "id": "949fe9a6-3297-4e5f-925b-b828eedaebe1",
      "metadata": {
        "id": "949fe9a6-3297-4e5f-925b-b828eedaebe1",
        "outputId": "f3a0de69-4b71-4dfb-f870-3064c9d38ce0"
      },
      "outputs": [
        {
          "data": {
            "text/plain": [
              "3535"
            ]
          },
          "execution_count": 11,
          "metadata": {},
          "output_type": "execute_result"
        }
      ],
      "source": [
        "sudh"
      ]
    },
    {
      "cell_type": "code",
      "execution_count": null,
      "id": "0bf6b4c6-c6a6-4ece-a753-adb8e592b91f",
      "metadata": {
        "id": "0bf6b4c6-c6a6-4ece-a753-adb8e592b91f",
        "outputId": "f827675c-5794-4ff8-bb7f-0d80ab5296da"
      },
      "outputs": [
        {
          "data": {
            "text/plain": [
              "int"
            ]
          },
          "execution_count": 12,
          "metadata": {},
          "output_type": "execute_result"
        }
      ],
      "source": [
        "type(sudh)"
      ]
    },
    {
      "cell_type": "code",
      "execution_count": null,
      "id": "2a1e0c15-96f7-43d8-a157-aa3417fbe122",
      "metadata": {
        "id": "2a1e0c15-96f7-43d8-a157-aa3417fbe122"
      },
      "outputs": [],
      "source": [
        "d = True"
      ]
    },
    {
      "cell_type": "code",
      "execution_count": null,
      "id": "57d6e945-e3e8-4c94-9ec7-cb9f5d98d5f7",
      "metadata": {
        "id": "57d6e945-e3e8-4c94-9ec7-cb9f5d98d5f7",
        "outputId": "b821b4a7-e362-455f-89eb-728da512615c"
      },
      "outputs": [
        {
          "data": {
            "text/plain": [
              "bool"
            ]
          },
          "execution_count": 14,
          "metadata": {},
          "output_type": "execute_result"
        }
      ],
      "source": [
        "type(d)"
      ]
    },
    {
      "cell_type": "code",
      "execution_count": null,
      "id": "8df1b0f0-1016-4ac6-88d0-4f1deb12590a",
      "metadata": {
        "id": "8df1b0f0-1016-4ac6-88d0-4f1deb12590a"
      },
      "outputs": [],
      "source": [
        "e = False"
      ]
    },
    {
      "cell_type": "code",
      "execution_count": null,
      "id": "8d28d582-27bb-448c-a825-b9818287d45e",
      "metadata": {
        "id": "8d28d582-27bb-448c-a825-b9818287d45e",
        "outputId": "90aca4e9-458f-4987-d690-16fd57858871"
      },
      "outputs": [
        {
          "data": {
            "text/plain": [
              "bool"
            ]
          },
          "execution_count": 16,
          "metadata": {},
          "output_type": "execute_result"
        }
      ],
      "source": [
        "type(e)"
      ]
    },
    {
      "cell_type": "code",
      "execution_count": null,
      "id": "c31353ba-1e23-41f4-b8a8-bce53400eee7",
      "metadata": {
        "id": "c31353ba-1e23-41f4-b8a8-bce53400eee7",
        "outputId": "11e7ef88-2c32-4120-dbed-b3e8b86833d8"
      },
      "outputs": [
        {
          "data": {
            "text/plain": [
              "1"
            ]
          },
          "execution_count": 17,
          "metadata": {},
          "output_type": "execute_result"
        }
      ],
      "source": [
        "True - False"
      ]
    },
    {
      "cell_type": "code",
      "execution_count": null,
      "id": "7b0d5178-b181-4fb3-8a71-317e8e4f0abe",
      "metadata": {
        "id": "7b0d5178-b181-4fb3-8a71-317e8e4f0abe",
        "outputId": "cbb0611f-c881-4e72-cc1c-906e5f3af4a9"
      },
      "outputs": [
        {
          "data": {
            "text/plain": [
              "0"
            ]
          },
          "execution_count": 18,
          "metadata": {},
          "output_type": "execute_result"
        }
      ],
      "source": [
        "True * False"
      ]
    },
    {
      "cell_type": "code",
      "execution_count": null,
      "id": "833e6ed9-83b4-47cc-bc98-7c12d6320b25",
      "metadata": {
        "id": "833e6ed9-83b4-47cc-bc98-7c12d6320b25",
        "outputId": "41f6a83e-758c-4057-f37a-edde5664462c"
      },
      "outputs": [
        {
          "ename": "ZeroDivisionError",
          "evalue": "division by zero",
          "output_type": "error",
          "traceback": [
            "\u001b[0;31m---------------------------------------------------------------------------\u001b[0m",
            "\u001b[0;31mZeroDivisionError\u001b[0m                         Traceback (most recent call last)",
            "Cell \u001b[0;32mIn[19], line 1\u001b[0m\n\u001b[0;32m----> 1\u001b[0m \u001b[38;5;28;43;01mTrue\u001b[39;49;00m\u001b[43m \u001b[49m\u001b[38;5;241;43m/\u001b[39;49m\u001b[43m \u001b[49m\u001b[38;5;28;43;01mFalse\u001b[39;49;00m\n",
            "\u001b[0;31mZeroDivisionError\u001b[0m: division by zero"
          ]
        }
      ],
      "source": [
        "True / False"
      ]
    },
    {
      "cell_type": "code",
      "execution_count": null,
      "id": "cbb0879d-1311-4cc5-89ce-01d04e6ef8db",
      "metadata": {
        "id": "cbb0879d-1311-4cc5-89ce-01d04e6ef8db"
      },
      "outputs": [],
      "source": [
        "f = 5+ 4j"
      ]
    },
    {
      "cell_type": "code",
      "execution_count": null,
      "id": "94257af8-84da-42fa-aef9-8d4b17d13712",
      "metadata": {
        "id": "94257af8-84da-42fa-aef9-8d4b17d13712",
        "outputId": "b8099c41-7837-4adf-f38b-d02500a6f258"
      },
      "outputs": [
        {
          "data": {
            "text/plain": [
              "complex"
            ]
          },
          "execution_count": 21,
          "metadata": {},
          "output_type": "execute_result"
        }
      ],
      "source": [
        "type(f)"
      ]
    },
    {
      "cell_type": "code",
      "execution_count": null,
      "id": "39cbc6b1-eb13-4c25-a897-34ae508ad870",
      "metadata": {
        "id": "39cbc6b1-eb13-4c25-a897-34ae508ad870"
      },
      "outputs": [],
      "source": [
        "e = 6+7j"
      ]
    },
    {
      "cell_type": "code",
      "execution_count": null,
      "id": "c1be422a-2338-44b5-b786-ea6db705bc8c",
      "metadata": {
        "id": "c1be422a-2338-44b5-b786-ea6db705bc8c"
      },
      "outputs": [],
      "source": [
        "g = 7j"
      ]
    },
    {
      "cell_type": "code",
      "execution_count": null,
      "id": "049de14a-ddc9-4c6d-a529-ecc31ec64b50",
      "metadata": {
        "id": "049de14a-ddc9-4c6d-a529-ecc31ec64b50",
        "outputId": "515d7219-2dad-4faf-c1dc-eb5bfd01e14b"
      },
      "outputs": [
        {
          "data": {
            "text/plain": [
              "complex"
            ]
          },
          "execution_count": 28,
          "metadata": {},
          "output_type": "execute_result"
        }
      ],
      "source": [
        "type(g)"
      ]
    },
    {
      "cell_type": "code",
      "execution_count": null,
      "id": "87b1382e-5b49-42bc-b5d4-59b327c239a2",
      "metadata": {
        "id": "87b1382e-5b49-42bc-b5d4-59b327c239a2",
        "outputId": "2549b793-3433-44ee-de1f-2bebeed0434b"
      },
      "outputs": [
        {
          "ename": "SyntaxError",
          "evalue": "cannot assign to literal here. Maybe you meant '==' instead of '='? (217617900.py, line 1)",
          "output_type": "error",
          "traceback": [
            "\u001b[0;36m  Cell \u001b[0;32mIn[29], line 1\u001b[0;36m\u001b[0m\n\u001b[0;31m    345 = 5\u001b[0m\n\u001b[0m    ^\u001b[0m\n\u001b[0;31mSyntaxError\u001b[0m\u001b[0;31m:\u001b[0m cannot assign to literal here. Maybe you meant '==' instead of '='?\n"
          ]
        }
      ],
      "source": [
        "345 = 5"
      ]
    },
    {
      "cell_type": "code",
      "execution_count": null,
      "id": "4fd8d176-63cc-4f55-8d73-1a86daf7c874",
      "metadata": {
        "id": "4fd8d176-63cc-4f55-8d73-1a86daf7c874",
        "outputId": "170260d0-0adb-480c-849d-07c902ce4f63"
      },
      "outputs": [
        {
          "ename": "SyntaxError",
          "evalue": "invalid decimal literal (3445766998.py, line 1)",
          "output_type": "error",
          "traceback": [
            "\u001b[0;36m  Cell \u001b[0;32mIn[30], line 1\u001b[0;36m\u001b[0m\n\u001b[0;31m    45gh = 234\u001b[0m\n\u001b[0m     ^\u001b[0m\n\u001b[0;31mSyntaxError\u001b[0m\u001b[0;31m:\u001b[0m invalid decimal literal\n"
          ]
        }
      ],
      "source": [
        "45gh = 234"
      ]
    },
    {
      "cell_type": "code",
      "execution_count": null,
      "id": "dfbbaabf-d463-4fa8-8ff1-6e7b8f4180f8",
      "metadata": {
        "id": "dfbbaabf-d463-4fa8-8ff1-6e7b8f4180f8"
      },
      "outputs": [],
      "source": [
        "#45 = 56"
      ]
    },
    {
      "cell_type": "code",
      "execution_count": null,
      "id": "20bc7736-a7c4-4c7e-ac5d-aa0d82dd5692",
      "metadata": {
        "id": "20bc7736-a7c4-4c7e-ac5d-aa0d82dd5692",
        "outputId": "f9fc2b3c-bcce-462f-9b1f-0837858f167b"
      },
      "outputs": [
        {
          "ename": "SyntaxError",
          "evalue": "invalid syntax (3665463452.py, line 1)",
          "output_type": "error",
          "traceback": [
            "\u001b[0;36m  Cell \u001b[0;32mIn[32], line 1\u001b[0;36m\u001b[0m\n\u001b[0;31m    $45 = 23\u001b[0m\n\u001b[0m    ^\u001b[0m\n\u001b[0;31mSyntaxError\u001b[0m\u001b[0;31m:\u001b[0m invalid syntax\n"
          ]
        }
      ],
      "source": [
        "$45 = 23"
      ]
    },
    {
      "cell_type": "code",
      "execution_count": null,
      "id": "63ea2b58-2c9c-4c69-9b44-b23b32eb7803",
      "metadata": {
        "id": "63ea2b58-2c9c-4c69-9b44-b23b32eb7803"
      },
      "outputs": [],
      "source": [
        "#fdlflasjdflasl fasdlkfalk faldfll kafkja"
      ]
    },
    {
      "cell_type": "code",
      "execution_count": null,
      "id": "68dd3b30-f52e-4c2d-9027-f7e925808f40",
      "metadata": {
        "id": "68dd3b30-f52e-4c2d-9027-f7e925808f40"
      },
      "outputs": [],
      "source": [
        "_a = 67"
      ]
    },
    {
      "cell_type": "code",
      "execution_count": null,
      "id": "b1899a60-df4b-4bbf-89cc-0dd4adbc3cfa",
      "metadata": {
        "id": "b1899a60-df4b-4bbf-89cc-0dd4adbc3cfa",
        "outputId": "804af3c9-fcf0-4392-ef24-36f7a92314da"
      },
      "outputs": [
        {
          "name": "stderr",
          "output_type": "stream",
          "text": [
            "UsageError: Line magic function `%a` not found.\n"
          ]
        }
      ],
      "source": [
        "%a = 45"
      ]
    },
    {
      "cell_type": "code",
      "execution_count": null,
      "id": "e607a5af-426f-4f2a-9aad-7768300e7ac7",
      "metadata": {
        "id": "e607a5af-426f-4f2a-9aad-7768300e7ac7",
        "outputId": "4a2c73b2-646b-4e7c-8f16-e37c16a006d5"
      },
      "outputs": [
        {
          "data": {
            "text/plain": [
              "67"
            ]
          },
          "execution_count": 36,
          "metadata": {},
          "output_type": "execute_result"
        }
      ],
      "source": [
        "_a"
      ]
    },
    {
      "cell_type": "code",
      "execution_count": null,
      "id": "d5b437ab-d41e-4626-a850-47a0e7c114cc",
      "metadata": {
        "id": "d5b437ab-d41e-4626-a850-47a0e7c114cc",
        "outputId": "98dd0ab6-cd5e-40fd-a98c-d9e980f3c450"
      },
      "outputs": [
        {
          "data": {
            "text/plain": [
              "(6+7j)"
            ]
          },
          "execution_count": 37,
          "metadata": {},
          "output_type": "execute_result"
        }
      ],
      "source": [
        "e"
      ]
    },
    {
      "cell_type": "code",
      "execution_count": null,
      "id": "51285af1-3c17-424d-b375-7a90b7abb256",
      "metadata": {
        "id": "51285af1-3c17-424d-b375-7a90b7abb256",
        "outputId": "6d6c09d0-f54f-4b35-bf92-80dfc72d2741"
      },
      "outputs": [
        {
          "data": {
            "text/plain": [
              "6.0"
            ]
          },
          "execution_count": 38,
          "metadata": {},
          "output_type": "execute_result"
        }
      ],
      "source": [
        "e.real"
      ]
    },
    {
      "cell_type": "code",
      "execution_count": null,
      "id": "1afff6f3-c416-4bf5-9bc5-18639b475fc2",
      "metadata": {
        "id": "1afff6f3-c416-4bf5-9bc5-18639b475fc2",
        "outputId": "4280f971-2cdd-43db-ce81-ba7cd28a43da"
      },
      "outputs": [
        {
          "data": {
            "text/plain": [
              "7.0"
            ]
          },
          "execution_count": 39,
          "metadata": {},
          "output_type": "execute_result"
        }
      ],
      "source": [
        "e.imag"
      ]
    },
    {
      "cell_type": "code",
      "execution_count": null,
      "id": "1554e4ba-35db-4c4d-84f7-06808a489323",
      "metadata": {
        "id": "1554e4ba-35db-4c4d-84f7-06808a489323"
      },
      "outputs": [],
      "source": []
    }
  ],
  "metadata": {
    "kernelspec": {
      "display_name": "Python 3 (ipykernel)",
      "language": "python",
      "name": "python3"
    },
    "language_info": {
      "codemirror_mode": {
        "name": "ipython",
        "version": 3
      },
      "file_extension": ".py",
      "mimetype": "text/x-python",
      "name": "python",
      "nbconvert_exporter": "python",
      "pygments_lexer": "ipython3",
      "version": "3.10.8"
    },
    "colab": {
      "provenance": []
    }
  },
  "nbformat": 4,
  "nbformat_minor": 5
}